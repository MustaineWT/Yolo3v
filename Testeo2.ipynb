{
  "nbformat": 4,
  "nbformat_minor": 0,
  "metadata": {
    "colab": {
      "name": "Untitled0.ipynb",
      "provenance": [],
      "authorship_tag": "ABX9TyPGtwbhVFoS13KzrUSTMbZf",
      "include_colab_link": true
    },
    "kernelspec": {
      "name": "python3",
      "display_name": "Python 3"
    },
    "accelerator": "GPU"
  },
  "cells": [
    {
      "cell_type": "markdown",
      "metadata": {
        "id": "view-in-github",
        "colab_type": "text"
      },
      "source": [
        "<a href=\"https://colab.research.google.com/github/MustaineWT/Yolo3v/blob/master/Testeo2.ipynb\" target=\"_parent\"><img src=\"https://colab.research.google.com/assets/colab-badge.svg\" alt=\"Open In Colab\"/></a>"
      ]
    },
    {
      "cell_type": "code",
      "metadata": {
        "id": "S-8Equ6uXBw6",
        "colab_type": "code",
        "colab": {}
      },
      "source": [
        "# clone darknet repo\n",
        "!git clone https://github.com/AlexeyAB/darknet"
      ],
      "execution_count": null,
      "outputs": []
    },
    {
      "cell_type": "code",
      "metadata": {
        "id": "1nhhPDiWXUHX",
        "colab_type": "code",
        "colab": {}
      },
      "source": [
        "# change makefile to have GPU and OPENCV enabled\n",
        "%cd darknet\n",
        "!sed -i 's/OPENCV=0/OPENCV=1/' Makefile\n",
        "!sed -i 's/GPU=0/GPU=1/' Makefile\n",
        "!sed -i 's/CUDNN=0/CUDNN=1/' Makefile"
      ],
      "execution_count": null,
      "outputs": []
    },
    {
      "cell_type": "code",
      "metadata": {
        "id": "Zp7MKgvtXbiO",
        "colab_type": "code",
        "colab": {}
      },
      "source": [
        "# verify CUDA\n",
        "!/usr/local/cuda/bin/nvcc --version"
      ],
      "execution_count": null,
      "outputs": []
    },
    {
      "cell_type": "code",
      "metadata": {
        "id": "SFq4xt5XtqYK",
        "colab_type": "code",
        "colab": {
          "base_uri": "https://localhost:8080/",
          "height": 122
        },
        "outputId": "7c6bd3d6-a04c-4d48-fe52-977efd918235"
      },
      "source": [
        "from google.colab import drive\n",
        "drive.mount('/content/drive')"
      ],
      "execution_count": 4,
      "outputs": [
        {
          "output_type": "stream",
          "text": [
            "Go to this URL in a browser: https://accounts.google.com/o/oauth2/auth?client_id=947318989803-6bn6qk8qdgf4n4g3pfee6491hc0brc4i.apps.googleusercontent.com&redirect_uri=urn%3aietf%3awg%3aoauth%3a2.0%3aoob&response_type=code&scope=email%20https%3a%2f%2fwww.googleapis.com%2fauth%2fdocs.test%20https%3a%2f%2fwww.googleapis.com%2fauth%2fdrive%20https%3a%2f%2fwww.googleapis.com%2fauth%2fdrive.photos.readonly%20https%3a%2f%2fwww.googleapis.com%2fauth%2fpeopleapi.readonly\n",
            "\n",
            "Enter your authorization code:\n",
            "··········\n",
            "Mounted at /content/drive\n"
          ],
          "name": "stdout"
        }
      ]
    },
    {
      "cell_type": "code",
      "metadata": {
        "id": "EL_h2MJlXeVj",
        "colab_type": "code",
        "colab": {}
      },
      "source": [
        "# make darknet (build)\n",
        "!make"
      ],
      "execution_count": null,
      "outputs": []
    },
    {
      "cell_type": "code",
      "metadata": {
        "id": "KC4qu4GMYTUC",
        "colab_type": "code",
        "colab": {}
      },
      "source": [
        "# get yolov3 pretrained coco dataset weights\n",
        "!wget https://pjreddie.com/media/files/yolov3.weights"
      ],
      "execution_count": null,
      "outputs": []
    },
    {
      "cell_type": "code",
      "metadata": {
        "id": "rNCGucAvbYh3",
        "colab_type": "code",
        "colab": {}
      },
      "source": [
        "# define helper functions\n",
        "def imShow(path):\n",
        "  import cv2\n",
        "  import matplotlib.pyplot as plt\n",
        "  %matplotlib inline\n",
        "\n",
        "  image = cv2.imread(path)\n",
        "  height, width = image.shape[:2]\n",
        "  resized_image = cv2.resize(image,(3*width, 3*height), interpolation = cv2.INTER_CUBIC)\n",
        "\n",
        "  fig = plt.gcf()\n",
        "  fig.set_size_inches(18, 10)\n",
        "  plt.axis(\"off\")\n",
        "  plt.imshow(cv2.cvtColor(resized_image, cv2.COLOR_BGR2RGB))\n",
        "  plt.show()\n",
        "\n",
        "# use this to upload files\n",
        "def upload():\n",
        "  from google.colab import files\n",
        "  uploaded = files.upload() \n",
        "  for name, data in uploaded.items():\n",
        "    with open(name, 'wb') as f:\n",
        "      f.write(data)\n",
        "      print ('saved file', name)\n",
        "      \n",
        "def download(path):\n",
        "  from google.colab import files\n",
        "  files.download(path)"
      ],
      "execution_count": 69,
      "outputs": []
    },
    {
      "cell_type": "code",
      "metadata": {
        "id": "jCzxY121z8uD",
        "colab_type": "code",
        "colab": {}
      },
      "source": [
        "\n",
        "# use this to download a file  \n",
        "def downloaddrive(each_image):\n",
        "  import os  \n",
        "  !cp \"./darknet/predictions.jpg\" \"./darknet/results\"\n",
        "  destino=\"./darknet/results/\"+each_image\n",
        "  os.replace(\"./darknet/results/predictions.jpg\",destino)\n",
        "  !cp \"./darknet/results/{each_image}\" \"/content/drive/My Drive/yolo/resImagenes\"\n",
        "   "
      ],
      "execution_count": 50,
      "outputs": []
    },
    {
      "cell_type": "code",
      "metadata": {
        "id": "e-VZsc2Ao-B2",
        "colab_type": "code",
        "colab": {}
      },
      "source": [
        "def procesar():\n",
        "  import os\n",
        "  import cv2\n",
        "  from os.path import basename\n",
        "  \n",
        "  items = os.listdir('/content/drive/My Drive/yolo/Imagenes')\n",
        "  for each_image in items:\n",
        "    #do_something(file)  \n",
        "    !./darknet detector test cfg/cf/obj.data cfg/cf/yolov3_custom.cfg cfg/cf/yolov3_custom_last.weights each_image -thresh 0.3\n",
        "    downloaddrive(each_image)\n",
        "    #imShow('predictions.jpg')\n",
        "    #download('predictions.jpg')"
      ],
      "execution_count": 53,
      "outputs": []
    },
    {
      "cell_type": "code",
      "metadata": {
        "id": "hbHv3qh_tHcP",
        "colab_type": "code",
        "colab": {
          "base_uri": "https://localhost:8080/",
          "height": 575
        },
        "outputId": "9f055f3a-ed64-4aeb-de94-b94677363707"
      },
      "source": [
        "#procesar()\n",
        "#downloaddrive('2.jpg')\n",
        "#!./darknet/darknet detector test /content/darknet/cfg/cf/obj.data /content/darknet/cfg/cf/yolov3_custom.cfg /content/darknet/cfg/cf/yolov3_custom_last.weights 5da26554e02ac.jpg -thresh 0.3\n",
        "imShow('predictions.jpg')\n"
      ],
      "execution_count": 70,
      "outputs": [
        {
          "output_type": "display_data",
          "data": {
            "image/png": "[encoded data removed]",
            "text/plain": [
              "<Figure size 1296x720 with 1 Axes>"
            ]
          },
          "metadata": {
            "tags": [],
            "needs_background": "light"
          }
        }
      ]
    },
    {
      "cell_type": "code",
      "metadata": {
        "id": "Ldy7XJZkgkO5",
        "colab_type": "code",
        "colab": {}
      },
      "source": [
        "# run darknet detection\n",
        "!./darknet detect cfg/yolov3.cfg yolov3.weights data/person.jpg\n"
      ],
      "execution_count": null,
      "outputs": []
    },
    {
      "cell_type": "code",
      "metadata": {
        "id": "MIYSBd-fhEwL",
        "colab_type": "code",
        "colab": {}
      },
      "source": [
        "!./darknet detect cfg/yolov3.cfg yolov3.weights data/dog.jpg\n",
        "imShow('predictions.jpg')"
      ],
      "execution_count": null,
      "outputs": []
    },
    {
      "cell_type": "code",
      "metadata": {
        "id": "jY6Fep_KiDAO",
        "colab_type": "code",
        "colab": {}
      },
      "source": [
        "!./darknet detect cfg/yolov3.cfg yolov3.weights data/transito.png\n",
        "imShow('predictions.jpg')"
      ],
      "execution_count": null,
      "outputs": []
    },
    {
      "cell_type": "code",
      "metadata": {
        "id": "yl3dorjxjX_n",
        "colab_type": "code",
        "colab": {}
      },
      "source": [
        "!./darknet detect cfg/yolov3.cfg yolov3.weights data/ptenuevo.jpg\n",
        "imShow('predictions.jpg')\n",
        "download('predictions.jpg')"
      ],
      "execution_count": null,
      "outputs": []
    },
    {
      "cell_type": "code",
      "metadata": {
        "id": "xL75PYHnnB88",
        "colab_type": "code",
        "colab": {}
      },
      "source": [
        "#!ls Copiar modelos cifrut\n",
        "#!cp \"/content/drive/My Drive/yolo/backup/yolov3_custom_1000.weights\" \"./cfg/cf\"\n",
        "#!cp \"/content/drive/My Drive/yolo/backup/yolov3_custom_2000.weights\" \"./cfg/cf\"\n",
        "#!cp \"/content/drive/My Drive/yolo/backup/yolov3_custom_final.weights\" \"./cfg/cf\"\n",
        "#!cp \"/content/drive/My Drive/yolo/backup/yolov3_custom_last.weights\" \"./cfg/cf\"\n",
        "#!cp \"/content/drive/My Drive/yolo/backup/yolov3_custom.cfg\" \"./cfg/cf\"\n",
        "#!cp \"/content/drive/My Drive/yolo/objetos/obj.names\" \"./data\"\n",
        "!cp \"/content/drive/My Drive/yolo/objetos/obj.data\" \"./darknet/cfg/cf\""
      ],
      "execution_count": 66,
      "outputs": []
    },
    {
      "cell_type": "code",
      "metadata": {
        "id": "PMWFrNahQAbp",
        "colab_type": "code",
        "colab": {}
      },
      "source": [
        "#!ls Copiar modelos botellas\n",
        "!cp \"/content/drive/My Drive/yolo/AJE/obj_bebidas.weight\" \"./cfg/botellas\"\n",
        "!cp \"/content/drive/My Drive/yolo/AJE/obj_ajp.weights\" \"./cfg/botellas\"\n",
        "!cp \"/content/drive/My Drive/yolo/AJE/Data/obj-1.names\" \"./cfg/botellas\"\n",
        "!cp \"/content/drive/My Drive/yolo/AJE/Data/obj.data\" \"./cfg/botellas\"\n",
        "!cp \"/content/drive/My Drive/yolo/AJE/CFG/obj.cfg\" \"./cfg/botellas\""
      ],
      "execution_count": 12,
      "outputs": []
    },
    {
      "cell_type": "code",
      "metadata": {
        "id": "Ue2tNdi3QgWL",
        "colab_type": "code",
        "colab": {}
      },
      "source": [
        "#!cp \"/content/drive/My Drive/yolo/objetos/obj.names\" \"./data\" \n",
        "!cp \"/content/drive/My Drive/yolo/objetos/obj.data\" \"./data\" "
      ],
      "execution_count": null,
      "outputs": []
    },
    {
      "cell_type": "code",
      "metadata": {
        "id": "9n54iFFKRwOq",
        "colab_type": "code",
        "colab": {}
      },
      "source": [
        "!cp \"/content/drive/My Drive/yolo/objetos/generate_train.py\" \"./\" "
      ],
      "execution_count": null,
      "outputs": []
    },
    {
      "cell_type": "code",
      "metadata": {
        "id": "aG2iFBB75sAT",
        "colab_type": "code",
        "colab": {}
      },
      "source": [
        "!python generate_train.py"
      ],
      "execution_count": null,
      "outputs": []
    },
    {
      "cell_type": "code",
      "metadata": {
        "id": "MUPdALdJ7FXb",
        "colab_type": "code",
        "colab": {}
      },
      "source": [
        "!wget http://pjreddie.com/media/files/darknet53.conv.74"
      ],
      "execution_count": null,
      "outputs": []
    },
    {
      "cell_type": "code",
      "metadata": {
        "id": "9bo4MJU57iTS",
        "colab_type": "code",
        "colab": {}
      },
      "source": [
        "!./darknet detector train data/obj.data cfg/yolov3_custom.cfg darknet53.conv.74 -dont_show"
      ],
      "execution_count": null,
      "outputs": []
    },
    {
      "cell_type": "code",
      "metadata": {
        "id": "U5ceIDK2w7Iq",
        "colab_type": "code",
        "colab": {}
      },
      "source": [
        "!/content/darknet/darknet detector train data/obj.data cfg/yolov3_custom.cfg cfg/yolov3_custom_last.weights -dont_show"
      ],
      "execution_count": null,
      "outputs": []
    },
    {
      "cell_type": "code",
      "metadata": {
        "id": "sjaAC_lRCwsP",
        "colab_type": "code",
        "colab": {
          "base_uri": "https://localhost:8080/",
          "height": 85
        },
        "outputId": "c9320bb5-0469-4213-ae9f-c205390036f2"
      },
      "source": [
        "%cd cfg\n",
        "!sed -i 's/batch=64/batch=1/' yolov3_custom.cfg\n",
        "!sed -i 's/subdivisions=64/subdivisions=1/' yolov3_custom.cfg\n",
        "%cd .."
      ],
      "execution_count": 10,
      "outputs": [
        {
          "output_type": "stream",
          "text": [
            "/content/darknet/cfg\n",
            "sed: can't read yolov3_custom.cfg: No such file or directory\n",
            "sed: can't read yolov3_custom.cfg: No such file or directory\n",
            "/content/darknet\n"
          ],
          "name": "stdout"
        }
      ]
    },
    {
      "cell_type": "code",
      "metadata": {
        "id": "UooArGcaCzPn",
        "colab_type": "code",
        "colab": {}
      },
      "source": [
        "!./darknet detector test cfg/botellas/obj.data cfg/botellas/obj.cfg cfg/botellas/obj_ajp.weights 5f0f681f83804.jpg -thresh 0.3\n",
        "\n",
        "imShow('predictions.jpg')\n",
        "\n",
        "#!./darknet detect cfg/yolov3_custom.cfg yolov3_custom.weights \"./5da1508a7c863.jpg\" #-thresh 0.3\n",
        "# imShow('predictions.jpg')\n",
        "# download('predictions.jpg')"
      ],
      "execution_count": null,
      "outputs": []
    }
  ]
}