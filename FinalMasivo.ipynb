{
  "nbformat": 4,
  "nbformat_minor": 0,
  "metadata": {
    "colab": {
      "name": "Untitled0.ipynb",
      "provenance": [],
      "collapsed_sections": [],
      "authorship_tag": "ABX9TyNNWNqIujk4MBz5wG6XTTaD",
      "include_colab_link": true
    },
    "kernelspec": {
      "name": "python3",
      "display_name": "Python 3"
    },
    "accelerator": "GPU"
  },
  "cells": [
    {
      "cell_type": "markdown",
      "metadata": {
        "id": "view-in-github",
        "colab_type": "text"
      },
      "source": [
        "<a href=\"https://colab.research.google.com/github/MustaineWT/Yolo3v/blob/master/FinalMasivo.ipynb\" target=\"_parent\"><img src=\"https://colab.research.google.com/assets/colab-badge.svg\" alt=\"Open In Colab\"/></a>"
      ]
    },
    {
      "cell_type": "code",
      "metadata": {
        "id": "S-8Equ6uXBw6",
        "colab_type": "code",
        "colab": {
          "base_uri": "https://localhost:8080/",
          "height": 102
        },
        "outputId": "b98bf078-65d8-4f78-9879-8873b40ea9da"
      },
      "source": [
        "# clone darknet repo\n",
        "!git clone https://github.com/AlexeyAB/darknet"
      ],
      "execution_count": 1,
      "outputs": [
        {
          "output_type": "stream",
          "text": [
            "Cloning into 'darknet'...\n",
            "remote: Enumerating objects: 13939, done.\u001b[K\n",
            "remote: Total 13939 (delta 0), reused 0 (delta 0), pack-reused 13939\u001b[K\n",
            "Receiving objects: 100% (13939/13939), 12.53 MiB | 6.88 MiB/s, done.\n",
            "Resolving deltas: 100% (9504/9504), done.\n"
          ],
          "name": "stdout"
        }
      ]
    },
    {
      "cell_type": "code",
      "metadata": {
        "id": "1nhhPDiWXUHX",
        "colab_type": "code",
        "colab": {
          "base_uri": "https://localhost:8080/",
          "height": 34
        },
        "outputId": "92c6aa2a-a3c3-43d9-87b2-960e4cac15af"
      },
      "source": [
        "# change makefile to have GPU and OPENCV enabled\n",
        "%cd darknet\n",
        "!sed -i 's/OPENCV=0/OPENCV=1/' Makefile\n",
        "!sed -i 's/GPU=0/GPU=1/' Makefile\n",
        "!sed -i 's/CUDNN=0/CUDNN=1/' Makefile"
      ],
      "execution_count": 2,
      "outputs": [
        {
          "output_type": "stream",
          "text": [
            "/content/darknet\n"
          ],
          "name": "stdout"
        }
      ]
    },
    {
      "cell_type": "code",
      "metadata": {
        "id": "Zp7MKgvtXbiO",
        "colab_type": "code",
        "colab": {
          "base_uri": "https://localhost:8080/",
          "height": 85
        },
        "outputId": "571cc633-3d79-4b6f-8a54-53bcb8a00baa"
      },
      "source": [
        "# verify CUDA\n",
        "!/usr/local/cuda/bin/nvcc --version"
      ],
      "execution_count": 3,
      "outputs": [
        {
          "output_type": "stream",
          "text": [
            "nvcc: NVIDIA (R) Cuda compiler driver\n",
            "Copyright (c) 2005-2019 NVIDIA Corporation\n",
            "Built on Sun_Jul_28_19:07:16_PDT_2019\n",
            "Cuda compilation tools, release 10.1, V10.1.243\n"
          ],
          "name": "stdout"
        }
      ]
    },
    {
      "cell_type": "code",
      "metadata": {
        "id": "SFq4xt5XtqYK",
        "colab_type": "code",
        "colab": {
          "base_uri": "https://localhost:8080/",
          "height": 122
        },
        "outputId": "8797ef68-c670-4c7a-d3e9-c1742a3d68bc"
      },
      "source": [
        "from google.colab import drive\n",
        "drive.mount('/content/drive')"
      ],
      "execution_count": 4,
      "outputs": [
        {
          "output_type": "stream",
          "text": [
            "Go to this URL in a browser: https://accounts.google.com/o/oauth2/auth?client_id=947318989803-6bn6qk8qdgf4n4g3pfee6491hc0brc4i.apps.googleusercontent.com&redirect_uri=urn%3aietf%3awg%3aoauth%3a2.0%3aoob&response_type=code&scope=email%20https%3a%2f%2fwww.googleapis.com%2fauth%2fdocs.test%20https%3a%2f%2fwww.googleapis.com%2fauth%2fdrive%20https%3a%2f%2fwww.googleapis.com%2fauth%2fdrive.photos.readonly%20https%3a%2f%2fwww.googleapis.com%2fauth%2fpeopleapi.readonly\n",
            "\n",
            "Enter your authorization code:\n",
            "··········\n",
            "Mounted at /content/drive\n"
          ],
          "name": "stdout"
        }
      ]
    },
    {
      "cell_type": "code",
      "metadata": {
        "id": "EL_h2MJlXeVj",
        "colab_type": "code",
        "colab": {}
      },
      "source": [
        "# make darknet (build)\n",
        "!make"
      ],
      "execution_count": null,
      "outputs": []
    },
    {
      "cell_type": "code",
      "metadata": {
        "id": "KC4qu4GMYTUC",
        "colab_type": "code",
        "colab": {}
      },
      "source": [
        "# get yolov3 pretrained coco dataset weights\n",
        "!wget https://pjreddie.com/media/files/yolov3.weights"
      ],
      "execution_count": null,
      "outputs": []
    },
    {
      "cell_type": "code",
      "metadata": {
        "id": "rNCGucAvbYh3",
        "colab_type": "code",
        "colab": {}
      },
      "source": [
        "# define helper functions\n",
        "def imShow(path):\n",
        "  import cv2\n",
        "  import matplotlib.pyplot as plt\n",
        "  %matplotlib inline\n",
        "\n",
        "  image = cv2.imread(path)\n",
        "  height, width = image.shape[:2]\n",
        "  resized_image = cv2.resize(image,(3*width, 3*height), interpolation = cv2.INTER_CUBIC)\n",
        "\n",
        "  fig = plt.gcf()\n",
        "  fig.set_size_inches(18, 10)\n",
        "  plt.axis(\"off\")\n",
        "  plt.imshow(cv2.cvtColor(resized_image, cv2.COLOR_BGR2RGB))\n",
        "  plt.show()\n",
        "\n",
        "# use this to upload files\n",
        "def upload():\n",
        "  from google.colab import files\n",
        "  uploaded = files.upload() \n",
        "  for name, data in uploaded.items():\n",
        "    with open(name, 'wb') as f:\n",
        "      f.write(data)\n",
        "      print ('saved file', name)\n",
        "      \n",
        "def download(path):\n",
        "  from google.colab import files\n",
        "  files.download(path)\n",
        "\n",
        "# use this to download a file drive  \n",
        "def downloaddrive(each_image):\n",
        "  import os  \n",
        "  !cp \"./predictions.jpg\" \"./results\"\n",
        "  #os.replace(\"./results/predictions.jpg\",destino)\n",
        "  os.rename (r'./results/predictions.jpg', r'./results/' + str (each_image))\n",
        "  !cp \"./results/{each_image}\" \"/content/drive/My Drive/yolo/resImagenes\"\n",
        "\n",
        "#proceso masivo drive to drive\n",
        "def procesar():\n",
        "  import os\n",
        "  import cv2\n",
        "  from os.path import basename\n",
        "  \n",
        "  items = os.listdir('/content/drive/My Drive/yolo/Imagenes')\n",
        "  for each_image in items: \n",
        "    #each_image=\"5da130f55b2ff.jpg\"\n",
        "    eacj=\"'/content/drive/My Drive/yolo/Imagenes/'\"+each_image\n",
        "    !./darknet detector test cfg/botellas/obj.data cfg/botellas/obj.cfg cfg/botellas/obj_ajp.weights {str (eacj)} -thresh 0.3\n",
        "    \n",
        "    downloaddrive(each_image)"
      ],
      "execution_count": 3,
      "outputs": []
    },
    {
      "cell_type": "code",
      "metadata": {
        "id": "xL75PYHnnB88",
        "colab_type": "code",
        "colab": {}
      },
      "source": [
        "#!ls Copiar modelos cifrut\n",
        "#!cp \"/content/drive/My Drive/yolo/backup/yolov3_custom_1000.weights\" \"./cfg\"\n",
        "#!cp \"/content/drive/My Drive/yolo/backup/yolov3_custom_2000.weights\" \"./cfg\"\n",
        "#!cp \"/content/drive/My Drive/yolo/backup/yolov3_custom_final.weights\" \"./cfg\"\n",
        "#!cp \"/content/drive/My Drive/yolo/backup/yolov3_custom_last.weights\" \"./cfg\"\n",
        "#!cp \"/content/drive/My Drive/yolo/backup/yolov3_custom.cfg\" \"./cfg\"\n",
        "#!cp \"/content/drive/My Drive/yolo/objetos/obj.names\" \"./data\"\n",
        "!cp \"/content/drive/My Drive/yolo/objetos/obj.data\" \"./data\"\n",
        "#!cp \"/content/drive/My Drive/yolo/objetos/generate_train.py\" \"./darknet\""
      ],
      "execution_count": 13,
      "outputs": []
    },
    {
      "cell_type": "code",
      "metadata": {
        "id": "PMWFrNahQAbp",
        "colab_type": "code",
        "colab": {}
      },
      "source": [
        "#!ls Copiar modelos botellas\n",
        "!cp \"/content/drive/My Drive/yolo/AJE/obj_bebidas.weight\" \"./cfg/botellas\"\n",
        "!cp \"/content/drive/My Drive/yolo/AJE/obj_ajp.weights\" \"./cfg/botellas\"\n",
        "!cp \"/content/drive/My Drive/yolo/AJE/Data/obj-1.names\" \"./cfg/botellas\"\n",
        "!cp \"/content/drive/My Drive/yolo/AJE/Data/obj.data\" \"./cfg/botellas\"\n",
        "!cp \"/content/drive/My Drive/yolo/AJE/CFG/obj.cfg\" \"./cfg/botellas\""
      ],
      "execution_count": 10,
      "outputs": []
    },
    {
      "cell_type": "code",
      "metadata": {
        "id": "aG2iFBB75sAT",
        "colab_type": "code",
        "colab": {}
      },
      "source": [
        "!python \"generate_train.py\""
      ],
      "execution_count": 15,
      "outputs": []
    },
    {
      "cell_type": "code",
      "metadata": {
        "id": "U5ceIDK2w7Iq",
        "colab_type": "code",
        "colab": {}
      },
      "source": [
        "%cd cfg\n",
        "!sed -i 's/batch=64/batch=1/' yolov3_custom.cfg\n",
        "!sed -i 's/subdivisions=64/subdivisions=1/' yolov3_custom.cfg\n",
        "%cd ..\n",
        "!darknet detector train data/obj.data cfg/yolov3_custom.cfg cfg/yolov3_custom_last.weights -dont_show\n",
        "%cd cfg\n",
        "!sed -i 's/batch=1/batch=64/' yolov3_custom.cfg\n",
        "!sed -i 's/subdivisions=1/subdivisions=64/' yolov3_custom.cfg\n",
        "%cd .."
      ],
      "execution_count": null,
      "outputs": []
    },
    {
      "cell_type": "code",
      "metadata": {
        "id": "sjaAC_lRCwsP",
        "colab_type": "code",
        "colab": {}
      },
      "source": [
        "%cd cfg/botellas\n",
        "!ls\n",
        "!sed -i 's/batch=64/batch=1/' obj.cfg\n",
        "!sed -i 's/subdivisions=64/subdivisions=1/' obj.cfg\n",
        "%cd ..\n",
        "%cd .."
      ],
      "execution_count": null,
      "outputs": []
    },
    {
      "cell_type": "code",
      "metadata": {
        "id": "44p54DkUzFIP",
        "colab_type": "code",
        "colab": {}
      },
      "source": [
        "!./darknet detector train cfg/botellas/obj.data cfg/botellas/obj.cfg cfg/botellas/obj_ajp.weights -dont_show"
      ],
      "execution_count": null,
      "outputs": []
    },
    {
      "cell_type": "code",
      "metadata": {
        "id": "7i2tDNt6zHSo",
        "colab_type": "code",
        "colab": {}
      },
      "source": [
        "%cd cfg/botellas\n",
        "!sed -i 's/batch=1/batch=64/' obj.cfg\n",
        "!sed -i 's/subdivisions=1/subdivisions=64/' obj.cfg\n",
        "%cd ..\n",
        "%cd .."
      ],
      "execution_count": null,
      "outputs": []
    },
    {
      "cell_type": "code",
      "metadata": {
        "id": "qEx11Z2rLdED",
        "colab_type": "code",
        "colab": {}
      },
      "source": [
        "procesar()\n",
        "#each_image=\"5da130f55b2ff.jpg\"\n",
        "#eacj=\"'/content/drive/My Drive/yolo/Imagenes/'\"+each_image\n",
        "\n",
        "#!./darknet detector test cfg/botellas/obj.data cfg/botellas/obj.cfg cfg/botellas/obj_ajp.weights {str (eacj)} -thresh 0.3\n",
        "#print(eacj)\n",
        "#/content/drive/My Drive/yolo/Imagenes/5da130f55b2ff.jpg\n",
        "#imShow('predictions.jpg')\n",
        "#import os\n",
        "#import cv2\n",
        "#from os.path import basename\n",
        "#va=0\n",
        "#items = os.listdir('/content/drive/My Drive/yolo/Imagenes')\n",
        "#for each_image in items: \n",
        "#  va=va+1\n",
        "#  print(each_image+str(va))\n",
        "#%cd /content/darknet/"
      ],
      "execution_count": null,
      "outputs": []
    }
  ]
}